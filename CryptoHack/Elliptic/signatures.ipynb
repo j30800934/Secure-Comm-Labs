{
 "cells": [
  {
   "cell_type": "code",
   "execution_count": 3,
   "id": "7efd1d05",
   "metadata": {},
   "outputs": [],
   "source": [
    "from Crypto.Util.number import *\n",
    "from Crypto.Random import random\n",
    "from Crypto.Cipher import AES\n",
    "from Crypto.Util.number import inverse\n",
    "from Crypto.Util.Padding import pad, unpad\n",
    "import hashlib\n",
    "import json\n",
    "import string"
   ]
  },
  {
   "cell_type": "code",
   "execution_count": 13,
   "id": "ce3c7a10",
   "metadata": {},
   "outputs": [
    {
     "name": "stdout",
     "output_type": "stream",
     "text": [
      "b'{\"admin\": true, \"username\": \"admin\"}'\n",
      "b\"Z\\xb4A\\xe8\\x88\\xdcJ\\\\\\x04\\x9c\\xb1\\x88q{w#u\\x96N\\x82E\\x1e:%\\r\\xd5'\\xa8\\x9e\\x94\\xcd\\xe2<\\x91\\x17[\\\\\\x8f\\xb4I\\xc7\\xc2\\x18\\xe2\\xe1{*\\xff\"\n",
      "{'msg': '{\"admin\": true, \"username\": \"admin\"}', 'signature': '5ab441e888dc4a5c049cb188717b772375964e82451e3a250dd527a89e94cde23c91175b5c8fb449c7c218e2e17b2aff'}\n",
      "{\"admin\": true, \"username\": \"admin\"}\n",
      "5ab441e888dc4a5c049cb188717b772375964e82451e3a250dd527a89e94cde23c91175b5c8fb449c7c218e2e17b2aff\n",
      "{\"error\":\"Signature verification failed\"}\n",
      "\n"
     ]
    }
   ],
   "source": [
    "## Digestive\n",
    "import hashlib\n",
    "import requests\n",
    "import json\n",
    "import string\n",
    "from ecdsa import SigningKey\n",
    "\n",
    "SK = SigningKey.generate() \n",
    "VK = SK.verifying_key\n",
    "url = \"https://web.cryptohack.org/digestive/verify/\"\n",
    "url_sign = \"https://web.cryptohack.org/digestive/sign/\"\n",
    "\n",
    "class HashFunc:\n",
    "    def __init__(self, data):\n",
    "        self.data = data\n",
    "\n",
    "    def digest(self):\n",
    "        # return hashlib.sha256(data).digest()\n",
    "        return self.data\n",
    "\n",
    "def sign(username):\n",
    "    sanitized_username = \"\".join(a for a in username if a in string.ascii_lowercase)\n",
    "    msg = json.dumps({\"admin\": True, \"username\": sanitized_username})\n",
    "    print(msg.encode())\n",
    "    signature = SK.sign(\n",
    "        msg.encode(),\n",
    "        hashfunc=HashFunc,\n",
    "    )\n",
    "    print(signature)\n",
    "\n",
    "    return {\"msg\": msg, \"signature\": signature.hex()}\n",
    "\n",
    "signature = sign(\"admin\")   # 1st method \n",
    "# signature = eval(requests.get(f\"{url_sign}admin/\").text)   # 2nd method \n",
    "\n",
    "print(signature)\n",
    "msg = signature[\"msg\"]\n",
    "sign = signature[\"signature\"]\n",
    "print(msg)\n",
    "print(sign)\n",
    "print(requests.get(f\"{url}/{msg}/{sign}/\").text)"
   ]
  },
  {
   "cell_type": "code",
   "execution_count": 69,
   "id": "0da28770-764f-46b8-8ad6-1fd28c8a6e53",
   "metadata": {},
   "outputs": [
    {
     "name": "stdout",
     "output_type": "stream",
     "text": [
      "3947634156039677873273988219790688000735746485255382747019\n",
      "25263891570057404597967634688635490714830129012629928936533054687451315348185051565718984970644136028235376186437549\n",
      "15165900751169722687055127981120483036774260781945258195474738061317021504728045503307230162312208101465261044533406\n"
     ]
    }
   ],
   "source": [
    "from ecdsa import SigningKey, NIST192p\n",
    "from Crypto.Util.number import *\n",
    "from hashlib import sha1\n",
    "\n",
    "class HashFunc:\n",
    "    def __init__(self, data):\n",
    "        self.data = data\n",
    "\n",
    "    def digest(self):\n",
    "        # return hashlib.sha256(data).digest()\n",
    "        return self.data\n",
    "\n",
    "## generate the private_key and public_key \n",
    "private_key = SigningKey.generate(curve=NIST192p)\n",
    "public_key = private_key.verifying_key\n",
    "\n",
    "print(bytes_to_long(private_key.to_string()))\n",
    "\n",
    "## to sign a message\n",
    "msg = b\"hey, i'm mmukul\"\n",
    "msg2 = b\"hey, i'm mmukul2\"\n",
    "signature = private_key.sign(msg,hashfunc=HashFunc)\n",
    "signature2 = private_key.sign(msg2,hashfunc=HashFunc)\n",
    "print(bytes_to_long(signature))\n",
    "print(bytes_to_long(signature2))\n",
    "# print(public_key.verify(signature,msg))\n",
    "\n",
    "\n",
    "# print(private_key.curve)\n",
    "# print(private_key.baselen)\n",
    "\n"
   ]
  }
 ],
 "metadata": {
  "kernelspec": {
   "display_name": "SageMath 9.5",
   "language": "sage",
   "name": "sagemath"
  },
  "language_info": {
   "codemirror_mode": {
    "name": "ipython",
    "version": 3
   },
   "file_extension": ".py",
   "mimetype": "text/x-python",
   "name": "python",
   "nbconvert_exporter": "python",
   "pygments_lexer": "ipython3",
   "version": "3.10.12"
  }
 },
 "nbformat": 4,
 "nbformat_minor": 5
}
