{
 "cells": [
  {
   "cell_type": "code",
   "execution_count": null,
   "id": "b575045c-12bc-4b46-9940-197ae2776acf",
   "metadata": {
    "vscode": {
     "languageId": "python"
    }
   },
   "outputs": [],
   "source": [
    "from Crypto.Util.number import *\n",
    "from Crypto.Random import random\n",
    "from Crypto.Cipher import AES\n",
    "from Crypto.Util.number import inverse\n",
    "from Crypto.Util.Padding import pad, unpad\n",
    "import hashlib\n",
    "from sage.groups.generic import bsgs"
   ]
  },
  {
   "cell_type": "code",
   "execution_count": null,
   "id": "fb30a611-8d11-48b8-bbfa-ad9abcb71562",
   "metadata": {
    "vscode": {
     "languageId": "python"
    }
   },
   "outputs": [],
   "source": [
    "## microtransmisions\n",
    "!pip3 install pycrypto\n",
    "from Crypto.Util.number import *\n",
    "from Crypto.Random import random\n",
    "from Crypto.Cipher import AES\n",
    "from Crypto.Util.number import inverse\n",
    "from Crypto.Util.Padding import pad, unpad\n",
    "from sage.all import *\n",
    "from sage.groups.generic import bsgs\n",
    "import hashlib\n",
    "\n",
    "# curve parameters \n",
    "a = 1\n",
    "b = 4\n",
    "p = 99061670249353652702595159229088680425828208953931838069069584252923270946291\n",
    "E = EllipticCurve(GF(p),[a,b])\n",
    "\n",
    "G = E(43190960452218023575787899214023014938926631792651638044680168600989609069200, 20971936269255296908588589778128791635639992476076894152303569022736123671173)\n",
    "\n",
    "ax = 87360200456784002948566700858113190957688355783112995047798140117594305287669\n",
    "bx = 6082896373499126624029343293750138460137531774473450341235217699497602895121\n",
    "A = E.lift_x(ax)\n",
    "B = E.lift_x(bx)\n",
    "\n",
    "# print(E.order())\n",
    "# print(G.order())\n",
    "# print(A.order())\n",
    "\n",
    "assert E.order() == G.order() and E.order() == A.order()\n",
    "\n",
    "def dlp_solve(G,A):\n",
    "    primes = []\n",
    "    for i in G.order().factor():\n",
    "        if (len(primes)<8):\n",
    "            primes.append(i)\n",
    "        else:\n",
    "            break\n",
    "    corresponding_dlp = [0]*len(primes)\n",
    "    for i,(p_i,e_i) in enumerate(primes):\n",
    "        for j in range(e_i):\n",
    "            corresponding_dlp[i]+=bsgs(G*(G.order()//p_i),(A-(G*corresponding_dlp[i]))*(G.order()//(p_i**(j+1))),(0,p_i),operation='+')*(p_i**j)\n",
    "    return crt(corresponding_dlp,[p_i**e_i for (p_i,e_i) in primes])\n",
    "\n",
    "n_a = dlp_solve(G,A)\n",
    "\n",
    "def gen_shared_secret(P, n):\n",
    "\tS = n*P\n",
    "\treturn S.xy()[0]\n",
    "\n",
    "share_secret = gen_shared_secret(B,n_a)\n",
    "\n",
    "def decrypt(shared_secret,encrypted_flag,iv):\n",
    "    sha1 = hashlib.sha1()\n",
    "    sha1.update(str(shared_secret).encode('ascii'))\n",
    "    key = sha1.digest()[:16]\n",
    "    cipher = AES.new(key,AES.MODE_CBC,iv)\n",
    "    return cipher.decrypt(encrypted_flag)\n",
    "\n",
    "print(share_secret)\n",
    "iv = \"ceb34a8c174d77136455971f08641cc5\"\n",
    "encrypted_flag = \"b503bf04df71cfbd3f464aec2083e9b79c825803a4d4a43697889ad29eb75453\"\n",
    "print(decrypt(share_secret,bytes.fromhex(encrypted_flag),bytes.fromhex(iv)))"
   ]
  },
  {
   "cell_type": "code",
   "execution_count": null,
   "id": "126b6db9",
   "metadata": {
    "vscode": {
     "languageId": "python"
    }
   },
   "outputs": [],
   "source": [
    "\n",
    "## Elliptic Nodes\n",
    "p = 4368590184733545720227961182704359358435747188309319510520316493183539079703\n",
    "\n",
    "gx = 8742397231329873984594235438374590234800923467289367269837473862487362482\n",
    "gy = 225987949353410341392975247044711665782695329311463646299187580326445253608\n",
    "qx = 2582928974243465355371953056699793745022552378548418288211138499777818633265\n",
    "qy = 2421683573446497972507172385881793260176370025964652384676141384239699096612\n",
    "\n",
    "a = ((pow(gy,2,p) - pow(qy,2,p) - pow(gx,3,p) + pow(qx,3,p))*(pow(gx-qx,-1,p)))%p \n",
    "b = (pow(gy,2,p) - pow(gx,3,p) - a*gx)%p\n",
    "c = (pow(qy,2,p) - pow(qx,3,p) - a*qx)%p\n",
    "assert pow(gy,2,p) == (pow(gx,3,p) + a*gx + b)%p\n",
    "assert pow(qy,2,p) == (pow(qx,3,p) + a*qx + b)%p\n",
    "\n",
    "## Realise that the elliptic curve is singular\n",
    "# E = EllipticCurve(GF(p),[a,b])\n",
    "\n",
    "## Check if that's true using 4A^3 + 27B^2 = 0\n",
    "# print((4*a**3+27*b**2)%p)\n",
    "# P.<x> = PolynomialRing(GF(p),x)\n",
    "# f = x**3 + a*x + b\n",
    "# print(f.roots())\n",
    "\n",
    "## Discrete Logarithm Problem for Singular Curves\n",
    "\n",
    "P.<x> = PolynomialRing(GF(p),x)\n",
    "f = x**3 + a*x + b\n",
    "P = (gx, gy)\n",
    "Q = (qx, qy)\n",
    "## to calculate the affine shifts, execute print(f.factors())\n",
    "f_ = f.subs(x=x + 1557923326969252180825193218688702224840389936248863823173183835359957757721)\n",
    "P_ = (P[0] - 1557923326969252180825193218688702224840389936248863823173183835359957757721, P[1])\n",
    "Q_ = (Q[0] - 1557923326969252180825193218688702224840389936248863823173183835359957757721, Q[1])\n",
    "d = 1557923326969252180825193218688702224840389936248863823173183835359957757721 - 1252743530795041358577574745326954908754967315811591864173948822463623564261\n",
    "t = GF(p)(d).square_root()\n",
    "\n",
    "u = (P_[1] + t*P_[0])/(P_[1] - t*P_[0]) % p\n",
    "v = (Q_[1] + t*Q_[0])/(Q_[1] - t*Q_[0]) % p\n",
    "print(long_to_bytes(discrete_log(v, u)))\n"
   ]
  },
  {
   "cell_type": "code",
   "execution_count": null,
   "id": "7915a971",
   "metadata": {
    "vscode": {
     "languageId": "python"
    }
   },
   "outputs": [],
   "source": [
    "## Moving Problems \n",
    "# Define Curve params\n",
    "p = 1331169830894825846283645180581\n",
    "a = -35\n",
    "b = 98\n",
    "E = EllipticCurve(GF(p), [a,b])\n",
    "G = E.gens()[0]\n",
    "\n",
    "P_a = E(1110072782478160369250829345256, 800079550745409318906383650948)\n",
    "P_b = E(1290982289093010194550717223760, 762857612860564354370535420319)\n",
    "\n",
    "F = EllipticCurve(GF(p**2),[a,b])\n",
    "print(G.order())\n",
    "print(P_a.order())\n",
    "\n",
    "def dlp_solve(G,A):\n",
    "    primes = []\n",
    "    for i in G.order().factor():\n",
    "        if (len(primes)<8):\n",
    "            primes.append(i)\n",
    "        else:\n",
    "            break\n",
    "    corresponding_dlp = [0]*len(primes)\n",
    "    for i,(p_i,e_i) in enumerate(primes):\n",
    "        for j in range(e_i):\n",
    "            corresponding_dlp[i]+=bsgs(G*(G.order()//p_i),(A-(G*corresponding_dlp[i]))*(G.order()//(p_i**(j+1))),(0,p_i),operation='+')*(p_i**j)\n",
    "    return crt(corresponding_dlp,[p_i**e_i for (p_i,e_i) in primes])\n",
    "print(dlp_solve(G,P_a))\n",
    "\n",
    "\n",
    "\n"
   ]
  }
 ],
 "metadata": {
  "kernelspec": {
   "display_name": "SageMath 9.5",
   "language": "sage",
   "name": "sagemath"
  },
  "language_info": {
   "codemirror_mode": {
    "name": "ipython",
    "version": 3
   },
   "file_extension": ".py",
   "mimetype": "text/x-python",
   "name": "sage",
   "nbconvert_exporter": "python",
   "pygments_lexer": "ipython3",
   "version": "3.10.12"
  }
 },
 "nbformat": 4,
 "nbformat_minor": 5
}
