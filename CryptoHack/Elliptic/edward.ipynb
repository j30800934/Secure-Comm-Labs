{
 "cells": [
  {
   "cell_type": "code",
   "execution_count": null,
   "metadata": {
    "vscode": {
     "languageId": "python"
    }
   },
   "outputs": [
    {
     "name": "stdout",
     "output_type": "stream",
     "text": [
      "81771488576020780800429840804494302002046535623002421505654330952423385895352\n",
      "93363576349125357261100594024284032021790899956214866372721515379832552688218\n"
     ]
    }
   ],
   "source": [
    "from sage.all import *\n",
    "p = 110791754886372871786646216601736686131457908663834453133932404548926481065303\n",
    "d = 14053231445764110580607042223819107680391416143200240368020924470807783733946\n",
    "\n",
    "P = (0, 109790246752332785586117900442206937983841168568097606235725839233151034058387)\n",
    "Q = (0, 45290526009220141417047094490842138744068991614521518736097631206718264930032)\n",
    "\n",
    "iv = \"31068e75b880bece9686243fa4dc67d0\"\n",
    "encrypted_flag = \"e2ef82f2cde7d44e9f9810b34acc885891dad8118c1d9a07801639be0629b186dc8a192529703b2c947c20c4fe5ff2c8\"\n",
    "\n",
    "print(pow(P[1],2,p))\n",
    "print(pow(Q[1],2,p))\n",
    "\n",
    "\n",
    "# The script computes the squares of the y-coordinates of two elliptic curve points \\(P\\) and \\(Q\\) modulo a large prime \\(p\\). It prints the results of these calculations. The values are derived from the elliptic curve equation. The purpose is likely to verify properties of the curve or check for some pattern.\n",
    "\n"
   ]
  }
 ],
 "metadata": {
  "kernelspec": {
   "display_name": "SageMath 9.5",
   "language": "sage",
   "name": "sagemath"
  },
  "language_info": {
   "codemirror_mode": {
    "name": "ipython",
    "version": 3
   },
   "file_extension": ".py",
   "mimetype": "text/x-python",
   "name": "sage",
   "nbconvert_exporter": "python",
   "pygments_lexer": "ipython3",
   "version": "3.10.12"
  },
  "orig_nbformat": 4
 },
 "nbformat": 4,
 "nbformat_minor": 2
}
