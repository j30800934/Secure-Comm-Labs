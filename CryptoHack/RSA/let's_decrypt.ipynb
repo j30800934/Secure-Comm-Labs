{
 "cells": [
  {
   "cell_type": "code",
   "execution_count": 2,
   "metadata": {},
   "outputs": [
    {
     "name": "stdout",
     "output_type": "stream",
     "text": [
      "Defaulting to user installation because normal site-packages is not writeable\n",
      "Collecting utils\n",
      "  Using cached utils-1.0.1-py2.py3-none-any.whl (21 kB)\n",
      "Installing collected packages: utils\n",
      "Successfully installed utils-1.0.1\n",
      "Defaulting to user installation because normal site-packages is not writeable\n",
      "Collecting pkcs1\n",
      "  Using cached pkcs1-0.9.7-py3-none-any.whl (13 kB)\n",
      "Installing collected packages: pkcs1\n",
      "Successfully installed pkcs1-0.9.7\n",
      "[x] Opening connection to socket.cryptohack.org on port 13391\n",
      "[x] Opening connection to socket.cryptohack.org on port 13391: Trying 134.122.111.232\n",
      "[+] Opening connection to socket.cryptohack.org on port 13391: Done\n",
      "b'This server validates domain ownership with RSA signatures. Present your message and public key, and if the signature matches ours, you must own the domain.\\n'\n",
      "16240222270498692025963397327189194914186759237776075999464894124673676202168406293551264617188443991760125496417050643646394332912181570558216262726969063702994049661909903440834938825182904653381794725535440344839391613387669481038012235273006241462239610006309243325799374858562879339721474181202813441789421308660082359229296945383245835120520267434365173357729371625932003278958544143834828992201713760808477670490533374230071254672009364681985991266985556524967416179328197312866725294051113968507425678433774457134172561405246958809795955201013662228331896312017340852384764229288525108749448398056255920050839 65537 10826017069878645400727755999235136003903416920168174188295821038773919839147771043015405269042652889278667845637798637887716889466122925983469939829156480504433718543140787080835369873663688161568130278067968162696613489895172620062094378772686883697604319597903485846393638153408522460354619110965051516030399411670998825078412503334161390916851600466615561004837627289597318734287141769569578675947074707130339210036012517552534775446413293616722862279332739418900563546893933394256325041268733599700925021163994783882378431871007329541991992106832350088481475626779975723071126769170273329728748911641177338847608\n"
     ]
    }
   ],
   "source": [
    "from sage.all import *\n",
    "from pwn import *\n",
    "from Crypto.Util.number import *\n",
    "from Crypto.Hash import SHA256\n",
    "!pip3 install utils\n",
    "from utils import *\n",
    "!pip3 install pkcs1\n",
    "from pkcs1 import emsa_pkcs1_v15\n",
    "\n",
    "\n",
    "r = remote(\"socket.cryptohack.org\", 13391)\n",
    "\n",
    "print(r.recvline())\n",
    "\n",
    "r.sendline(b'{\"option\": \"get_signature\"}')\n",
    "x = eval(r.recvline().decode().strip('\\n'))\n",
    "N = int(x[\"N\"],16)\n",
    "e = int(x[\"e\"],16)\n",
    "s = int(x[\"signature\"],16)\n",
    "\n",
    "print(N,e,s)\n",
    "msg = r'^I am Mallory.*own CryptoHack.org$'\n",
    "\n",
    "digest = bytes_to_long(emsa_pkcs1_v15.encode(msg.encode(), 256))\n",
    "\n",
    "\n"
   ]
  }
 ],
 "metadata": {
  "kernelspec": {
   "display_name": "SageMath 9.5",
   "language": "sage",
   "name": "sagemath"
  },
  "language_info": {
   "codemirror_mode": {
    "name": "ipython",
    "version": 3
   },
   "file_extension": ".py",
   "mimetype": "text/x-python",
   "name": "python",
   "nbconvert_exporter": "python",
   "pygments_lexer": "ipython3",
   "version": "3.10.12"
  },
  "orig_nbformat": 4
 },
 "nbformat": 4,
 "nbformat_minor": 2
}
