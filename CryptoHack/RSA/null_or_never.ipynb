{
 "cells": [
  {
   "cell_type": "code",
   "execution_count": null,
   "metadata": {},
   "outputs": [
    {
     "name": "stdout",
     "output_type": "stream",
     "text": [
      "b'n0n_574nd4rd_p4d_c0n51d3r3d_h4rmful'\n"
     ]
    }
   ],
   "source": [
    "from sage.all import *\n",
    "\n",
    "n = 95341235345618011251857577682324351171197688101180707030749869409235726634345899397258784261937590128088284421816891826202978052640992678267974129629670862991769812330793126662251062120518795878693122854189330426777286315442926939843468730196970939951374889986320771714519309125434348512571864406646232154103\n",
    "e = 3\n",
    "c = 63476139027102349822147098087901756023488558030079225358836870725611623045683759473454129221778690683914555720975250395929721681009556415292257804239149809875424000027362678341633901036035522299395660255954384685936351041718040558055860508481512479599089561391846007771856837130233678763953257086620228436828\n",
    "P.<x> = PolynomialRing(Zmod(n), x, implementation = 'NTL')\n",
    "\n",
    "m1  = bytes_to_long(b'crypto{')\n",
    "m2  = bytes_to_long(b'}')\n",
    "pad = bytes_to_long(b'\\x00'*57)\n",
    "\n",
    "f = (m1*(256^(93)) + x*(256^(58)) + m2*(256^(57)) + pad)^(3) - c\n",
    "print(long_to_bytes(f.monic().small_roots(epsilon=1/30)[0]))\n",
    "\n",
    "## crypto{n0n_574nd4rd_p4d_c0n51d3r3d_h4rmful}\n",
    "\n",
    "# This script solves for the plaintext of a ciphertext encrypted with RSA, where the public exponent is 3. It defines a polynomial ring and constructs a polynomial based on the structure of the message, including padding. The script then uses a root-finding algorithm to determine the message, given the ciphertext. The result is decoded from bytes and printed as the plaintext.\n"
   ]
  }
 ],
 "metadata": {
  "kernelspec": {
   "display_name": "SageMath 9.5",
   "language": "sage",
   "name": "sagemath"
  },
  "language_info": {
   "codemirror_mode": {
    "name": "ipython",
    "version": 3
   },
   "file_extension": ".py",
   "mimetype": "text/x-python",
   "name": "python",
   "nbconvert_exporter": "python",
   "pygments_lexer": "ipython3",
   "version": "3.10.12"
  },
  "orig_nbformat": 4
 },
 "nbformat": 4,
 "nbformat_minor": 2
}
