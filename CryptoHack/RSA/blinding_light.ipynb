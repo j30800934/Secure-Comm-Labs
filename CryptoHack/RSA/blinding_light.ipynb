{
 "cells": [
  {
   "cell_type": "code",
   "execution_count": null,
   "metadata": {},
   "outputs": [
    {
     "name": "stdout",
     "output_type": "stream",
     "text": [
      "[x] Opening connection to socket.cryptohack.org on port 13376\n",
      "[x] Opening connection to socket.cryptohack.org on port 13376: Trying 134.122.111.232\n",
      "[+] Opening connection to socket.cryptohack.org on port 13376: Done\n",
      "[DEBUG] Received 0x21 bytes:\n",
      "    b'Watch out for the Blinding Light\\n'\n",
      "[DEBUG] Sent 0x19 bytes:\n",
      "    b'{\"option\": \"get_pubkey\"}\\n'\n",
      "[DEBUG] Received 0x21c bytes:\n",
      "    b'{\"N\": \"0x954e1412ba207b8a246ea515e81425aeb5471cf5062b6497b2c76312ccf150498779ca540464b09fe573df68b0cfdcac124ba799b8546b45b49eaae9fadd630d1b5562a9993c6a3da72d5222e24aa6e1f9c663bfd07f31f0cdef87a54f2fbf7151afc3fd329bd16692dcfa6794c3d94d00fb2e11b49557a491be3e510f0c3e22163487df65e54d68f43a3ecea44e48dc929f2d321c6bfdb2c6c233c704e0618041ace0be91f637f423e6161b36a1fe0f04445ee1f48dc5960659706bbcb97c1667c5f17d0f2395dad348a88f3efb7fa06f99f7963749679eb697cd178fce6f65cfee5b6c9c36096c96f5b5532a6a3b44127afe27f10015dd71a644d455f800d5\", \"e\": \"0x10001\"}\\n'\n",
      "[DEBUG] Sent 0x32 bytes:\n",
      "    b'{\"option\": \"sign\", \"msg\": \"c2c8dad2dc7aa8e4eaca\"}\\n'\n",
      "[DEBUG] Received 0x233 bytes:\n",
      "    b'{\"msg\": \"c2c8dad2dc7aa8e4eaca\", \"signature\": \"0x31ea17ac0c59c2583a1b8603fbfa7665c7dc62424c0b45dd62eb74a2f8de9a1011485299b485b5f24915b158b920d105a13e57f0c162e33b36f0ac55b515e4ec3ca3af5d2a9f5c33fba507dd6e0653b8a87f135bd6bf37c022319773fe24c61a165776f9793f2f67aaca05d24561a2002796b353e48992c2ce4429656d9f25c1053fdfbaa87f15a7e555a96b069fa9704c3d7b55fc39720d73f085be74f6d4c39c2c60871731373ce43ed598add2f50ecf17892e1f292017deb00fc68a3bd558e19a573daf1cda07c315187eaa93c403781694940d54585be2ef910305159124fd971febf78aba73904ab6e074c2edbc387b6945cd3d4238af0e7460f49ac60c\"}\\n'\n",
      "[DEBUG] Sent 0x20 bytes:\n",
      "    b'{\"option\": \"sign\", \"msg\": \"02\"}\\n'\n",
      "[DEBUG] Received 0x221 bytes:\n",
      "    b'{\"msg\": \"02\", \"signature\": \"0x810d4e94cc323c4f79e2e4459932a70b98ec88827f502638f060ce7a36ebbb3e839a270786897a50bab373eb5ac7420734bc051c0074bb859a8137b6009db9d9da97396d92ebe2cf863dc0fc321df9e11c535dcdecf23248b6b410353782a530aae4a7dda5e2a4c6cbb2f8d6132f9ba05f44cd3880968efdecd730d5caa2c39b28d0a0c906933ad1f5238e84006e742644fc95a5ee022df0cb5d8f9078d1488391416243751b5ab73b063216c28c49b3af901025deea00d3892fc93bcb71059e68f645675301313b4e776d780e103d21fff1b07f6d1aa932773804e5bf02048d63d96d97b64d343c270cf297fdf195ac862f1c7f4d3d294910643e4cddea3f4e\"}\\n'\n",
      "[DEBUG] Sent 0x245 bytes:\n",
      "    b'{\"option\": \"verify\", \"msg\": \"61646d696e3d54727565\", \"signature\": \"36b2ee7f4784d70110c35b1d9332fa22beb885406e8d80ff296832579230fc7c246c0d2ce24482d8ab53ffe35497621d4a61f8c779f1459a7f51ad8d59a2a690493b98e11c282a94faf8051a2e0110af8a27c623a33f482992af6fc54ca93240bf9bd4668d37246ca2c3d29e390146707f012de3905c5325586e40c7bedf15de095b711660a829cf924b55b5cef17a67a0ed97b6da7af9d018caa7d3ec1d467fde794337c66c2b9b7c51630643bc669305f5acb91ae8e1004a7df990e11ef08f3cb1fdd7a932e1aeb123c08fcc13399e7687ba036d7f54818050f1be0c40c46a05b63592f19f20e9a5967e009d94752909eda7905dd865d889ea7582a7473187\"}\\n'\n",
      "[DEBUG] Received 0x36 bytes:\n",
      "    b'{\"response\": \"crypto{m4ll34b1l17y_c4n_b3_d4n63r0u5}\"}\\n'\n",
      "b'{\"response\": \"crypto{m4ll34b1l17y_c4n_b3_d4n63r0u5}\"}\\n'\n"
     ]
    }
   ],
   "source": [
    "from Crypto.Util.number import *\n",
    "from pwn import *\n",
    "import json\n",
    "\n",
    "r = remote('socket.cryptohack.org', 13376, level = 'DEBUG')\n",
    "\n",
    "r.recv()\n",
    "r.sendline(b'{\\\"option\\\": \\\"get_pubkey\\\"}')\n",
    "data = json.loads(r.recv().decode())\n",
    "n = int(data[\"N\"],16)\n",
    "e = int(data[\"e\"],16)\n",
    "\n",
    "target = b\"admin=True\"\n",
    "target_num = bytes_to_long(target)\n",
    "\n",
    "r.sendline(b'{\\\"option\\\": \\\"sign\\\", \\\"msg\\\": \\\"'+ hex(2*target_num)[2:].encode() + b'\\\"}')\n",
    "\n",
    "data = json.loads(r.recv().decode())\n",
    "s22 = int(data[\"signature\"],16)\n",
    "\n",
    "r.sendline(b'{\\\"option\\\": \\\"sign\\\", \\\"msg\\\": \\\"02\\\"}')\n",
    "data = json.loads(r.recv().decode())\n",
    "s2 = int(data[\"signature\"],16)\n",
    "\n",
    "s = hex((pow(s2,-1,n)*s22)%n)\n",
    "\n",
    "r.sendline(b'{\\\"option\\\": \\\"verify\\\", \\\"msg\\\": \\\"' + hex(target_num)[2:].encode() + b'\\\", \\\"signature\\\": \\\"'+ s[2:].encode() + b'\\\"}')\n",
    "print(r.recv())\n",
    "\n",
    "## crypto{m4ll34b1l17y_c4n_b3_d4n63r0u5}\n",
    "# This script implements the Franklin-Reiter related-message attack on a cryptographic challenge. It connects to a remote server to retrieve two encrypted messages with different padding values and the modulus n. Using these, it applies a polynomial-based GCD calculation to recover the plaintext message. The compositeModulusGCD function computes the GCD of two polynomial expressions, and the FranklinReiter function uses this to extract the original message, which is then printed in bytes form. The solution reveals the flag crypto{linear_padding_isnt_padding}.\n"
   ]
  }
 ],
 "metadata": {
  "kernelspec": {
   "display_name": "SageMath 9.5",
   "language": "sage",
   "name": "sagemath"
  },
  "language_info": {
   "codemirror_mode": {
    "name": "ipython",
    "version": 3
   },
   "file_extension": ".py",
   "mimetype": "text/x-python",
   "name": "python",
   "nbconvert_exporter": "python",
   "pygments_lexer": "ipython3",
   "version": "3.10.12"
  },
  "orig_nbformat": 4
 },
 "nbformat": 4,
 "nbformat_minor": 2
}
