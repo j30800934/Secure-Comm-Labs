{
 "cells": [
  {
   "cell_type": "code",
   "execution_count": null,
   "metadata": {
    "vscode": {
     "languageId": "python"
    }
   },
   "outputs": [
    {
     "name": "stdout",
     "output_type": "stream",
     "text": [
      "Point(x=155781055760279718382374741001148850818103179141959728567110540865590463, y=73794785561346677848810778233901832813072697504335306937799336126503714)\n",
      "83201481069630956436480435779471169630605662777874697301601848920266492\n"
     ]
    }
   ],
   "source": [
    "from sage.all import *\n",
    "from Crypto.Cipher import AES\n",
    "from Crypto.Util.Padding import pad, unpad\n",
    "from Crypto.Util.number import *\n",
    "from hashlib import sha1\n",
    "import random\n",
    "from collections import namedtuple\n",
    "Point = namedtuple(\"Point\", \"x y\")\n",
    "\n",
    "## https://citeseerx.ist.psu.edu/viewdoc/download?doi=10.1.1.66.8688&rep=rep1&type=pdf\n",
    "\n",
    "p = 173754216895752892448109692432341061254596347285717132408796456167143559\n",
    "D = 529\n",
    "Gx = 29394812077144852405795385333766317269085018265469771684226884125940148\n",
    "Gy = 94108086667844986046802106544375316173742538919949485639896613738390948\n",
    "Ax = 155781055760279718382374741001148850818103179141959728567110540865590463\n",
    "Ay = 73794785561346677848810778233901832813072697504335306937799336126503714\n",
    "Bx = 171226959585314864221294077932510094779925634276949970785138593200069419\n",
    "By = 54353971839516652938533335476115503436865545966356461292708042305317630\n",
    "G = Point(Gx,Gy)\n",
    "B = Point(Bx,By)\n",
    "assert (Gx**2 - D*Gy**2)%p == 1\n",
    "\n",
    "Zp = Zmod(p)\n",
    "G1 = Zp(Gx-Mod(D,p).sqrt()*Gy)\n",
    "A1 = Zp(Ax-Mod(D,p).sqrt()*Ay)\n",
    "B1 = Zp(Bx-Mod(D,p).sqrt()*By)\n",
    "\n",
    "a = discrete_log(A1,G1,G1.order()-1,operation='*')\n",
    "\n",
    "print(scalar_multiplication(G,a))\n",
    "def point_addition(P, Q):\n",
    "    Rx = (P.x*Q.x + D*P.y*Q.y) % p\n",
    "    Ry = (P.x*Q.y + P.y*Q.x) % p\n",
    "    return Point(Rx, Ry)\n",
    "def scalar_multiplication(P, n):\n",
    "    Q = Point(1, 0)\n",
    "    while n > 0:\n",
    "        if n % 2 == 1:\n",
    "            Q = point_addition(Q, P)\n",
    "        P = point_addition(P, P)\n",
    "        n = n//2\n",
    "    return Q\n",
    "def gen_keypair():\n",
    "    private = random.randint(1, p-1)\n",
    "    public = scalar_multiplication(G, private)\n",
    "    return (public, private)\n",
    "def gen_shared_secret(P, d):\n",
    "    return scalar_multiplication(P, d).x\n",
    "\n",
    "shared_secret = gen_shared_secret(B, a)\n",
    "print(shared_secret)\n",
    "\n",
    "## crypto{c0n1c_s3ct10n5_4r3_f1n1t3_gr0up5}\n",
    "\n",
    "# This script works with elliptic curve cryptography (ECC) over a finite field and performs operations such as point addition and scalar multiplication. The elliptic curve is defined by the equation x^2 - D cdot y^2 = 1 mod p . It starts by verifying the curve equation for given values of Gx  and Gy . Using this curve, the script generates a keypair and computes a shared secret using scalar multiplication. The shared secret is derived by multiplying a point B  with a secret value a , and the result is printed. The final flag extracted is \"crypto{c0n1c_s3ct10n5_4r3_f1n1t3_gr0up5}\"."
   ]
  }
 ],
 "metadata": {
  "kernelspec": {
   "display_name": "SageMath 9.5",
   "language": "sage",
   "name": "sagemath"
  },
  "language_info": {
   "codemirror_mode": {
    "name": "ipython",
    "version": 3
   },
   "file_extension": ".py",
   "mimetype": "text/x-python",
   "name": "sage",
   "nbconvert_exporter": "python",
   "pygments_lexer": "ipython3",
   "version": "3.10.12"
  },
  "orig_nbformat": 4
 },
 "nbformat": 4,
 "nbformat_minor": 2
}
